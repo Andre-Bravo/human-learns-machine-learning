{
 "cells": [
  {
   "cell_type": "code",
   "execution_count": 1,
   "metadata": {},
   "outputs": [],
   "source": [
    "# Required Libraries\n",
    "\n",
    "import numpy as np\n",
    "import pandas as pd\n",
    "import matplotlib.pyplot as plt\n",
    "import os\n",
    "# import pdb (for debugging process)\n",
    "\n",
    "\n",
    "# Visualizer Size\n",
    "plt.rcParams['figure.figsize'] = [15, 7]"
   ]
  },
  {
   "cell_type": "code",
   "execution_count": 2,
   "metadata": {},
   "outputs": [],
   "source": [
    "os.chdir(r'C:\\Users\\andre.bravo\\Documents\\python\\Python-Data-Science-and-Machine-Learning-Bootcamp\\ML from Scratch\\1. Simple Linear Regression\\Datasets')"
   ]
  },
  {
   "cell_type": "code",
   "execution_count": 3,
   "metadata": {},
   "outputs": [],
   "source": [
    "# Handeling Data\n",
    "\n",
    "# Importing Data (Excel)\n",
    "dataset = pd.read_csv('Housing_Data.csv') # path for dataset\n",
    "indepX = dataset.iloc[:,[0]].values\n",
    "depY = dataset.iloc[:,[1]].values\n",
    "\n",
    "# Splitting Data\n",
    "from sklearn.model_selection import train_test_split\n",
    "indepX_train, indepX_test, depY_train, depY_test = train_test_split(indepX, depY, \n",
    "                                                                    test_size = 0.3, \n",
    "                                                                    random_state = 42)"
   ]
  },
  {
   "cell_type": "code",
   "execution_count": 4,
   "metadata": {},
   "outputs": [],
   "source": [
    "# Hypothesis Function\n",
    "\n",
    "def hyp(theta, x):\n",
    "    return theta[0] + theta[1] * x"
   ]
  },
  {
   "cell_type": "code",
   "execution_count": 5,
   "metadata": {},
   "outputs": [],
   "source": [
    "# Error/Cost Function\n",
    "\n",
    "def errorFunc(theta, indepX, depY):\n",
    "    \n",
    "    # Initialization\n",
    "    m = len(indepX)\n",
    "    error = 0\n",
    "    for i in range(m):\n",
    "        \n",
    "        x = indepX[i]\n",
    "        y = depY[i]\n",
    "        error += (y - (theta[1] * x + theta[0])) ** 2\n",
    "        \n",
    "    return error / (2*m)"
   ]
  },
  {
   "cell_type": "code",
   "execution_count": 6,
   "metadata": {},
   "outputs": [],
   "source": [
    "# Gradient / Del Function\n",
    "\n",
    "def grad(indepX, depY, curr_theta, learning_rate):\n",
    "#     pdb.set_trace()  for debugging process \n",
    "    # Initialization\n",
    "    grad = np.zeros(2)\n",
    "    new_theta = curr_theta\n",
    "    m = len(indepX)\n",
    "    \n",
    "    # Adjustments\n",
    "    for i in range(m):\n",
    "        \n",
    "        x = indepX[i]\n",
    "        y = depY[i]\n",
    "        \n",
    "        grad[0] += (-1/m) * (y - (curr_theta[0] + (curr_theta[1] * x)))\n",
    "        grad[1] += (-1/m) * x * (y - (curr_theta[0] + (curr_theta[1] * x)))\n",
    "    \n",
    "    temp0 = curr_theta[0] - (learning_rate * grad[0])\n",
    "    temp1 = curr_theta[1] - (learning_rate * grad[1])\n",
    "    \n",
    "    new_theta[0] = temp0\n",
    "    new_theta[1] = temp1\n",
    "    \n",
    "    return new_theta"
   ]
  },
  {
   "cell_type": "code",
   "execution_count": 7,
   "metadata": {},
   "outputs": [],
   "source": [
    "# Gradient Descent Function\n",
    "\n",
    "def gradientDescent(indepX,depY, init_theta, learning_rate, num_iterations):\n",
    "    \n",
    "    # Initialization\n",
    "    theta = init_theta\n",
    "    J = [0 for i in range(num_iterations)]\n",
    "\n",
    "    # Iterating the Process\n",
    "    for i in range(num_iterations):\n",
    "        \n",
    "        theta = grad(indepX, depY, theta, learning_rate)\n",
    "        J[i] = errorFunc(theta, indepX, depY)\n",
    "        \n",
    "    return theta, J"
   ]
  },
  {
   "cell_type": "code",
   "execution_count": 8,
   "metadata": {},
   "outputs": [],
   "source": [
    "# Main Function\n",
    "\n",
    "def main():\n",
    "    \n",
    "    # Initialization\n",
    "    init_theta = np.zeros(2)\n",
    "    learning_rate = 0.05\n",
    "    num_iterations = 100\n",
    "    H = [0 for i in range(len(indepX_train))]\n",
    "    J = [0 for i in range(num_iterations)]\n",
    "    \n",
    "    # Calling Functions\n",
    "    theta, J = gradientDescent(indepX_train, depY_train, init_theta, learning_rate, num_iterations)\n",
    "    H = hyp(theta, indepX_train)\n",
    "    \n",
    "    # Check\n",
    "    for i in range(len(depY_test)):\n",
    "        print(float(H[i]))\n",
    "        print(depY_test[i])\n",
    "        print('----------')\n",
    "\n",
    "    # Visualization\n",
    "    \n",
    "    # Visualize J\n",
    "    plt.plot(J, color = 'green')\n",
    "    plt.title('Error vs No.Itrerations')\n",
    "    plt.xlabel('Itrerations')\n",
    "    plt.ylabel('Cost Function')\n",
    "    plt.show()\n",
    "    \n",
    "    # Visualize H\n",
    "    plt.scatter(indepX_train, depY_train, color = 'red')\n",
    "    plt.plot(indepX_train, H, color = 'blue')\n",
    "    plt.title('Size vs Price (Training set)')\n",
    "    plt.xlabel('Size')\n",
    "    plt.ylabel('Price')\n",
    "    plt.show()\n",
    "    \n",
    "        "
   ]
  },
  {
   "cell_type": "code",
   "execution_count": 11,
   "metadata": {},
   "outputs": [
    {
     "data": {
      "text/plain": [
       "array([[ 477],\n",
       "       [ 496],\n",
       "       [ 524],\n",
       "       [ 571],\n",
       "       [ 770],\n",
       "       [ 785],\n",
       "       [ 795],\n",
       "       [ 796],\n",
       "       [ 826],\n",
       "       [ 834],\n",
       "       [ 908],\n",
       "       [ 909],\n",
       "       [ 968],\n",
       "       [ 972],\n",
       "       [1049],\n",
       "       [1399],\n",
       "       [1560],\n",
       "       [1589],\n",
       "       [1773],\n",
       "       [1773],\n",
       "       [1830],\n",
       "       [1941],\n",
       "       [2116],\n",
       "       [2131],\n",
       "       [2190],\n",
       "       [2227],\n",
       "       [2273],\n",
       "       [2353],\n",
       "       [2373],\n",
       "       [2463],\n",
       "       [2520],\n",
       "       [2563],\n",
       "       [2688],\n",
       "       [2739],\n",
       "       [2765],\n",
       "       [2835],\n",
       "       [2916],\n",
       "       [2946],\n",
       "       [3102],\n",
       "       [3117],\n",
       "       [3370],\n",
       "       [3442],\n",
       "       [3443],\n",
       "       [3444],\n",
       "       [3470],\n",
       "       [3578],\n",
       "       [3595],\n",
       "       [3644],\n",
       "       [3931],\n",
       "       [3970]], dtype=int64)"
      ]
     },
     "execution_count": 11,
     "metadata": {},
     "output_type": "execute_result"
    }
   ],
   "source": [
    "indepX"
   ]
  },
  {
   "cell_type": "code",
   "execution_count": 10,
   "metadata": {},
   "outputs": [
    {
     "data": {
      "text/plain": [
       "array([[ 795],\n",
       "       [3442],\n",
       "       [3595],\n",
       "       [3644],\n",
       "       [1399],\n",
       "       [ 834],\n",
       "       [1560],\n",
       "       [2190],\n",
       "       [2765],\n",
       "       [2563],\n",
       "       [ 477],\n",
       "       [3470],\n",
       "       [2353],\n",
       "       [2739],\n",
       "       [ 785],\n",
       "       [2463],\n",
       "       [ 909],\n",
       "       [2916],\n",
       "       [ 496],\n",
       "       [1941],\n",
       "       [ 524],\n",
       "       [3444],\n",
       "       [2835],\n",
       "       [2131],\n",
       "       [3370],\n",
       "       [ 908],\n",
       "       [2116],\n",
       "       [1773],\n",
       "       [3970],\n",
       "       [1830],\n",
       "       [ 796],\n",
       "       [3443],\n",
       "       [1049],\n",
       "       [2373],\n",
       "       [3102]], dtype=int64)"
      ]
     },
     "execution_count": 10,
     "metadata": {},
     "output_type": "execute_result"
    }
   ],
   "source": [
    "indepX_train"
   ]
  },
  {
   "cell_type": "code",
   "execution_count": 9,
   "metadata": {},
   "outputs": [
    {
     "name": "stdout",
     "output_type": "stream",
     "text": [
      "nan\n",
      "[118525]\n",
      "----------\n",
      "nan\n",
      "[332981]\n",
      "----------\n",
      "nan\n",
      "[260935]\n",
      "----------\n",
      "nan\n",
      "[402892]\n",
      "----------\n",
      "nan\n",
      "[157694]\n",
      "----------\n",
      "nan\n",
      "[439039]\n",
      "----------\n",
      "nan\n",
      "[189318]\n",
      "----------\n",
      "nan\n",
      "[183504]\n",
      "----------\n",
      "nan\n",
      "[282501]\n",
      "----------\n",
      "nan\n",
      "[159783]\n",
      "----------\n",
      "nan\n",
      "[118364]\n",
      "----------\n",
      "nan\n",
      "[66702]\n",
      "----------\n",
      "nan\n",
      "[312044]\n",
      "----------\n",
      "nan\n",
      "[89792]\n",
      "----------\n",
      "nan\n",
      "[63755]\n",
      "----------\n"
     ]
    },
    {
     "name": "stderr",
     "output_type": "stream",
     "text": [
      "c:\\users\\andre.bravo\\documents\\python\\python-data-science-and-machine-learning-bootcamp\\pyboot\\lib\\site-packages\\ipykernel_launcher.py:12: RuntimeWarning: overflow encountered in square\n",
      "  if sys.path[0] == '':\n",
      "c:\\users\\andre.bravo\\documents\\python\\python-data-science-and-machine-learning-bootcamp\\pyboot\\lib\\site-packages\\ipykernel_launcher.py:17: RuntimeWarning: overflow encountered in add\n",
      "c:\\users\\andre.bravo\\documents\\python\\python-data-science-and-machine-learning-bootcamp\\pyboot\\lib\\site-packages\\ipykernel_launcher.py:20: RuntimeWarning: invalid value encountered in double_scalars\n"
     ]
    },
    {
     "data": {
      "image/png": "[encoded data removed]",
      "text/plain": [
       "<Figure size 432x288 with 1 Axes>"
      ]
     },
     "metadata": {
      "needs_background": "light"
     },
     "output_type": "display_data"
    },
    {
     "data": {
      "image/png": "[encoded data removed]",
      "text/plain": [
       "<Figure size 432x288 with 1 Axes>"
      ]
     },
     "metadata": {
      "needs_background": "light"
     },
     "output_type": "display_data"
    }
   ],
   "source": [
    "if __name__ == '__main__':\n",
    "    main()"
   ]
  }
 ],
 "metadata": {
  "kernelspec": {
   "display_name": "PyBoot",
   "language": "python",
   "name": "pyboot"
  },
  "language_info": {
   "codemirror_mode": {
    "name": "ipython",
    "version": 3
   },
   "file_extension": ".py",
   "mimetype": "text/x-python",
   "name": "python",
   "nbconvert_exporter": "python",
   "pygments_lexer": "ipython3",
   "version": "3.6.4"
  }
 },
 "nbformat": 4,
 "nbformat_minor": 2
}

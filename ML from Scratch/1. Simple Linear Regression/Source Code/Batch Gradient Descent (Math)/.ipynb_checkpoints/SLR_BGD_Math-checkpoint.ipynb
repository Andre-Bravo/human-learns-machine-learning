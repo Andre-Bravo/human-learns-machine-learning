{
 "cells": [
  {
   "cell_type": "code",
   "execution_count": 1,
   "metadata": {},
   "outputs": [],
   "source": [
    "# Required Libraries\n",
    "\n",
    "import numpy as np\n",
    "import pandas as pd\n",
    "import matplotlib.pyplot as plt\n",
    "# import pdb (for debugging process)\n",
    "\n",
    "\n",
    "# Visualizer Size\n",
    "plt.rcParams['figure.figsize'] = [15, 7]"
   ]
  },
  {
   "cell_type": "code",
   "execution_count": 2,
   "metadata": {},
   "outputs": [
    {
     "ename": "TypeError",
     "evalue": "parser_f() missing 1 required positional argument: 'filepath_or_buffer'",
     "output_type": "error",
     "traceback": [
      "\u001b[1;31m---------------------------------------------------------------------------\u001b[0m",
      "\u001b[1;31mTypeError\u001b[0m                                 Traceback (most recent call last)",
      "\u001b[1;32m<ipython-input-2-fbabbbba508e>\u001b[0m in \u001b[0;36m<module>\u001b[1;34m\u001b[0m\n\u001b[0;32m      2\u001b[0m \u001b[1;33m\u001b[0m\u001b[0m\n\u001b[0;32m      3\u001b[0m \u001b[1;31m# Importing Data (Excel)\u001b[0m\u001b[1;33m\u001b[0m\u001b[1;33m\u001b[0m\u001b[0m\n\u001b[1;32m----> 4\u001b[1;33m \u001b[0mdataset\u001b[0m \u001b[1;33m=\u001b[0m \u001b[0mpd\u001b[0m\u001b[1;33m.\u001b[0m\u001b[0mread_csv\u001b[0m\u001b[1;33m(\u001b[0m\u001b[1;33m)\u001b[0m \u001b[1;31m# path for dataset\u001b[0m\u001b[1;33m\u001b[0m\u001b[0m\n\u001b[0m\u001b[0;32m      5\u001b[0m \u001b[0mindepX\u001b[0m \u001b[1;33m=\u001b[0m \u001b[0mdataset\u001b[0m\u001b[1;33m.\u001b[0m\u001b[0miloc\u001b[0m\u001b[1;33m[\u001b[0m\u001b[1;33m:\u001b[0m\u001b[1;33m,\u001b[0m\u001b[1;33m[\u001b[0m\u001b[1;36m0\u001b[0m\u001b[1;33m]\u001b[0m\u001b[1;33m]\u001b[0m\u001b[1;33m.\u001b[0m\u001b[0mvalues\u001b[0m\u001b[1;33m\u001b[0m\u001b[0m\n\u001b[0;32m      6\u001b[0m \u001b[0mdepY\u001b[0m \u001b[1;33m=\u001b[0m \u001b[0mdataset\u001b[0m\u001b[1;33m.\u001b[0m\u001b[0miloc\u001b[0m\u001b[1;33m[\u001b[0m\u001b[1;33m:\u001b[0m\u001b[1;33m,\u001b[0m\u001b[1;33m[\u001b[0m\u001b[1;36m1\u001b[0m\u001b[1;33m]\u001b[0m\u001b[1;33m]\u001b[0m\u001b[1;33m.\u001b[0m\u001b[0mvalues\u001b[0m\u001b[1;33m\u001b[0m\u001b[0m\n",
      "\u001b[1;31mTypeError\u001b[0m: parser_f() missing 1 required positional argument: 'filepath_or_buffer'"
     ]
    }
   ],
   "source": [
    "# Handeling Data\n",
    "\n",
    "# Importing Data (Excel)\n",
    "dataset = pd.read_csv() # path for dataset\n",
    "indepX = dataset.iloc[:,[0]].values\n",
    "depY = dataset.iloc[:,[1]].values\n",
    "    \n",
    "# Scaling\n",
    "from sklearn.preprocessing import StandardScaler\n",
    "scale =  StandardScaler()\n",
    "indepX = scale.fit_transform(indepX)\n",
    "depY = scale.fit_transform(depY)\n",
    "\n",
    "# Splitting Data\n",
    "from sklearn.model_selection import train_test_split\n",
    "indepX_train, indepX_test, depY_train, depY_test = train_test_split(indepX, depY, \n",
    "                                                                    test_size = 0.3, \n",
    "                                                                    random_state = 42)"
   ]
  },
  {
   "cell_type": "code",
   "execution_count": null,
   "metadata": {},
   "outputs": [],
   "source": [
    "# Hypothesis Function\n",
    "\n",
    "def hyp(theta, x):\n",
    "    return theta[0] + theta[1] * x"
   ]
  },
  {
   "cell_type": "code",
   "execution_count": null,
   "metadata": {},
   "outputs": [],
   "source": [
    "# Error/Cost Function\n",
    "\n",
    "def errorFunc(theta, indepX, depY):\n",
    "    \n",
    "    # Initialization\n",
    "    m = len(indepX)\n",
    "    error = 0\n",
    "    for i in range(m):\n",
    "        \n",
    "        x = indepX[i]\n",
    "        y = depY[i]\n",
    "        error += (y - (theta[1] * x + theta[0])) ** 2\n",
    "        \n",
    "    return error / (2*m)"
   ]
  },
  {
   "cell_type": "code",
   "execution_count": null,
   "metadata": {},
   "outputs": [],
   "source": [
    "# Gradient / Del Function\n",
    "\n",
    "def grad(indepX, depY, curr_theta, learning_rate):\n",
    "#     pdb.set_trace()  for debugging process \n",
    "    # Initialization\n",
    "    grad = np.zeros(2)\n",
    "    new_theta = curr_theta\n",
    "    m = len(indepX)\n",
    "    \n",
    "    # Adjustments\n",
    "    for i in range(m):\n",
    "        \n",
    "        x = indepX[i]\n",
    "        y = depY[i]\n",
    "        \n",
    "        grad[0] += (-1/m) * (y - (curr_theta[0] + (curr_theta[1] * x)))\n",
    "        grad[1] += (-1/m) * x * (y - (curr_theta[0] + (curr_theta[1] * x)))\n",
    "    \n",
    "    temp0 = curr_theta[0] - (learning_rate * grad[0])\n",
    "    temp1 = curr_theta[1] - (learning_rate * grad[1])\n",
    "    \n",
    "    new_theta[0] = temp0\n",
    "    new_theta[1] = temp1\n",
    "    \n",
    "    return new_theta"
   ]
  },
  {
   "cell_type": "code",
   "execution_count": null,
   "metadata": {},
   "outputs": [],
   "source": [
    "# Gradient Descent Function\n",
    "\n",
    "def gradientDescent(indepX,depY, init_theta, learning_rate, num_iterations):\n",
    "    \n",
    "    # Initialization\n",
    "    theta = init_theta\n",
    "    J = [0 for i in range(num_iterations)]\n",
    "\n",
    "    # Iterating the Process\n",
    "    for i in range(num_iterations):\n",
    "        \n",
    "        theta = grad(indepX, depY, theta, learning_rate)\n",
    "        J[i] = errorFunc(theta, indepX, depY)\n",
    "        \n",
    "    return theta, J"
   ]
  },
  {
   "cell_type": "code",
   "execution_count": null,
   "metadata": {},
   "outputs": [],
   "source": [
    "# Main Function\n",
    "\n",
    "def main():\n",
    "    \n",
    "    # Initialization\n",
    "    init_theta = np.zeros(2)\n",
    "    learning_rate = 0.05\n",
    "    num_iterations = 100\n",
    "    H = [0 for i in range(len(indepX_train))]\n",
    "    J = [0 for i in range(num_iterations)]\n",
    "    \n",
    "    # Calling Functions\n",
    "    theta, J = gradientDescent(indepX_train, depY_train, init_theta, learning_rate, num_iterations)\n",
    "    H = hyp(theta, indepX_train)\n",
    "    \n",
    "    # Check\n",
    "    for i in range(len(depY_test)):\n",
    "        print(float(H[i]))\n",
    "        print(depY_test[i])\n",
    "        print('----------')\n",
    "\n",
    "    # Visualization\n",
    "    \n",
    "    # Visualize J\n",
    "    plt.plot(J, color = 'green')\n",
    "    plt.title('Error vs No.Itrerations')\n",
    "    plt.xlabel('Itrerations')\n",
    "    plt.ylabel('Cost Function')\n",
    "    plt.show()\n",
    "    \n",
    "    # Visualize H\n",
    "    plt.scatter(indepX_train, depY_train, color = 'red')\n",
    "    plt.plot(indepX_train, H, color = 'blue')\n",
    "    plt.title('Size vs Price (Training set)')\n",
    "    plt.xlabel('Size')\n",
    "    plt.ylabel('Price')\n",
    "    plt.show()\n",
    "    \n",
    "        "
   ]
  },
  {
   "cell_type": "code",
   "execution_count": null,
   "metadata": {},
   "outputs": [],
   "source": [
    "if __name__ == '__main__':\n",
    "    main()"
   ]
  }
 ],
 "metadata": {
  "kernelspec": {
   "display_name": "PyBoot",
   "language": "python",
   "name": "pyboot"
  },
  "language_info": {
   "codemirror_mode": {
    "name": "ipython",
    "version": 3
   },
   "file_extension": ".py",
   "mimetype": "text/x-python",
   "name": "python",
   "nbconvert_exporter": "python",
   "pygments_lexer": "ipython3",
   "version": "3.6.4"
  }
 },
 "nbformat": 4,
 "nbformat_minor": 2
}

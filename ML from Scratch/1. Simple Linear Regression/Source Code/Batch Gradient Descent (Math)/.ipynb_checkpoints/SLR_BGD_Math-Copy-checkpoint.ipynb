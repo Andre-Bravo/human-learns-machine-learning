{
 "cells": [
  {
   "cell_type": "code",
   "execution_count": 5,
   "metadata": {},
   "outputs": [],
   "source": [
    "# Required Libraries\n",
    "\n",
    "import numpy as np\n",
    "import pandas as pd\n",
    "import matplotlib.pyplot as plt\n",
    "import os\n",
    "# import pdb (for debugging process)\n",
    "\n",
    "\n",
    "# Visualizer Size\n",
    "plt.rcParams['figure.figsize'] = [15, 7]"
   ]
  },
  {
   "cell_type": "code",
   "execution_count": 6,
   "metadata": {},
   "outputs": [],
   "source": [
    "os.chdir(r'C:\\Users\\andre.bravo\\Documents\\python\\Python-Data-Science-and-Machine-Learning-Bootcamp\\ML from Scratch\\1. Simple Linear Regression\\Datasets')"
   ]
  },
  {
   "cell_type": "code",
   "execution_count": 7,
   "metadata": {},
   "outputs": [
    {
     "name": "stderr",
     "output_type": "stream",
     "text": [
      "c:\\users\\andre.bravo\\documents\\python\\python-data-science-and-machine-learning-bootcamp\\pyboot\\lib\\site-packages\\sklearn\\utils\\validation.py:595: DataConversionWarning: Data with input dtype int64 was converted to float64 by StandardScaler.\n",
      "  warnings.warn(msg, DataConversionWarning)\n",
      "c:\\users\\andre.bravo\\documents\\python\\python-data-science-and-machine-learning-bootcamp\\pyboot\\lib\\site-packages\\sklearn\\utils\\validation.py:595: DataConversionWarning: Data with input dtype int64 was converted to float64 by StandardScaler.\n",
      "  warnings.warn(msg, DataConversionWarning)\n",
      "c:\\users\\andre.bravo\\documents\\python\\python-data-science-and-machine-learning-bootcamp\\pyboot\\lib\\site-packages\\sklearn\\utils\\validation.py:595: DataConversionWarning: Data with input dtype int64 was converted to float64 by StandardScaler.\n",
      "  warnings.warn(msg, DataConversionWarning)\n",
      "c:\\users\\andre.bravo\\documents\\python\\python-data-science-and-machine-learning-bootcamp\\pyboot\\lib\\site-packages\\sklearn\\utils\\validation.py:595: DataConversionWarning: Data with input dtype int64 was converted to float64 by StandardScaler.\n",
      "  warnings.warn(msg, DataConversionWarning)\n"
     ]
    }
   ],
   "source": [
    "# Handeling Data\n",
    "\n",
    "# Importing Data (Excel)\n",
    "dataset = pd.read_csv('Housing_Data.csv') # path for dataset\n",
    "indepX = dataset.iloc[:,[0]].values\n",
    "depY = dataset.iloc[:,[1]].values\n",
    "\n",
    "# Splitting Data\n",
    "from sklearn.model_selection import train_test_split\n",
    "indepX_train, indepX_test, depY_train, depY_test = train_test_split(indepX, depY, \n",
    "                                                                    test_size = 0.3, \n",
    "                                                                    random_state = 42)"
   ]
  },
  {
   "cell_type": "code",
   "execution_count": 8,
   "metadata": {},
   "outputs": [],
   "source": [
    "# Hypothesis Function\n",
    "\n",
    "def hyp(theta, x):\n",
    "    return theta[0] + theta[1] * x"
   ]
  },
  {
   "cell_type": "code",
   "execution_count": 9,
   "metadata": {},
   "outputs": [],
   "source": [
    "# Error/Cost Function\n",
    "\n",
    "def errorFunc(theta, indepX, depY):\n",
    "    \n",
    "    # Initialization\n",
    "    m = len(indepX)\n",
    "    error = 0\n",
    "    for i in range(m):\n",
    "        \n",
    "        x = indepX[i]\n",
    "        y = depY[i]\n",
    "        error += (y - (theta[1] * x + theta[0])) ** 2\n",
    "        \n",
    "    return error / (2*m)"
   ]
  },
  {
   "cell_type": "code",
   "execution_count": 10,
   "metadata": {},
   "outputs": [],
   "source": [
    "# Gradient / Del Function\n",
    "\n",
    "def grad(indepX, depY, curr_theta, learning_rate):\n",
    "#     pdb.set_trace()  for debugging process \n",
    "    # Initialization\n",
    "    grad = np.zeros(2)\n",
    "    new_theta = curr_theta\n",
    "    m = len(indepX)\n",
    "    \n",
    "    # Adjustments\n",
    "    for i in range(m):\n",
    "        \n",
    "        x = indepX[i]\n",
    "        y = depY[i]\n",
    "        \n",
    "        grad[0] += (-1/m) * (y - (curr_theta[0] + (curr_theta[1] * x)))\n",
    "        grad[1] += (-1/m) * x * (y - (curr_theta[0] + (curr_theta[1] * x)))\n",
    "    \n",
    "    temp0 = curr_theta[0] - (learning_rate * grad[0])\n",
    "    temp1 = curr_theta[1] - (learning_rate * grad[1])\n",
    "    \n",
    "    new_theta[0] = temp0\n",
    "    new_theta[1] = temp1\n",
    "    \n",
    "    return new_theta"
   ]
  },
  {
   "cell_type": "code",
   "execution_count": 11,
   "metadata": {},
   "outputs": [],
   "source": [
    "# Gradient Descent Function\n",
    "\n",
    "def gradientDescent(indepX,depY, init_theta, learning_rate, num_iterations):\n",
    "    \n",
    "    # Initialization\n",
    "    theta = init_theta\n",
    "    J = [0 for i in range(num_iterations)]\n",
    "\n",
    "    # Iterating the Process\n",
    "    for i in range(num_iterations):\n",
    "        \n",
    "        theta = grad(indepX, depY, theta, learning_rate)\n",
    "        J[i] = errorFunc(theta, indepX, depY)\n",
    "        \n",
    "    return theta, J"
   ]
  },
  {
   "cell_type": "code",
   "execution_count": 12,
   "metadata": {},
   "outputs": [],
   "source": [
    "# Main Function\n",
    "\n",
    "def main():\n",
    "    \n",
    "    # Initialization\n",
    "    init_theta = np.zeros(2)\n",
    "    learning_rate = 0.05\n",
    "    num_iterations = 100\n",
    "    H = [0 for i in range(len(indepX_train))]\n",
    "    J = [0 for i in range(num_iterations)]\n",
    "    \n",
    "    # Calling Functions\n",
    "    theta, J = gradientDescent(indepX_train, depY_train, init_theta, learning_rate, num_iterations)\n",
    "    H = hyp(theta, indepX_train)\n",
    "    \n",
    "    # Check\n",
    "    for i in range(len(depY_test)):\n",
    "        print(float(H[i]))\n",
    "        print(depY_test[i])\n",
    "        print('----------')\n",
    "\n",
    "    # Visualization\n",
    "    \n",
    "    # Visualize J\n",
    "    plt.plot(J, color = 'green')\n",
    "    plt.title('Error vs No.Itrerations')\n",
    "    plt.xlabel('Itrerations')\n",
    "    plt.ylabel('Cost Function')\n",
    "    plt.show()\n",
    "    \n",
    "    # Visualize H\n",
    "    plt.scatter(indepX_train, depY_train, color = 'red')\n",
    "    plt.plot(indepX_train, H, color = 'blue')\n",
    "    plt.title('Size vs Price (Training set)')\n",
    "    plt.xlabel('Size')\n",
    "    plt.ylabel('Price')\n",
    "    plt.show()\n",
    "    \n",
    "        "
   ]
  },
  {
   "cell_type": "code",
   "execution_count": 13,
   "metadata": {},
   "outputs": [
    {
     "name": "stdout",
     "output_type": "stream",
     "text": [
      "-1.214378974254815\n",
      "[-0.83847041]\n",
      "----------\n",
      "1.2118881972777025\n",
      "[0.97874079]\n",
      "----------\n",
      "1.3521295562669262\n",
      "[0.36825286]\n",
      "----------\n",
      "1.3970434555510567\n",
      "[1.57113761]\n",
      "----------\n",
      "-0.6607464198136966\n",
      "[-0.50656855]\n",
      "----------\n",
      "-1.1786311768654052\n",
      "[1.87743229]\n",
      "----------\n",
      "-0.5131721793086966\n",
      "[-0.23859989]\n",
      "----------\n",
      "0.06429224005869519\n",
      "[-0.28786532]\n",
      "----------\n",
      "0.5913430990051243\n",
      "[0.5509942]\n",
      "----------\n",
      "0.40618784073177\n",
      "[-0.48886723]\n",
      "----------\n",
      "-1.505861014506927\n",
      "[-0.83983466]\n",
      "----------\n",
      "1.2375532825829199\n",
      "[-1.27759702]\n",
      "----------\n",
      "0.21369970094263943\n",
      "[0.80132933]\n",
      "----------\n",
      "0.567511234078851\n",
      "[-1.08194194]\n",
      "----------\n",
      "-1.2235450761495357\n",
      "[-1.30256868]\n",
      "----------\n"
     ]
    },
    {
     "data": {
      "image/png": "[encoded data removed]",
      "text/plain": [
       "<Figure size 1080x504 with 1 Axes>"
      ]
     },
     "metadata": {
      "needs_background": "light"
     },
     "output_type": "display_data"
    },
    {
     "data": {
      "image/png": "[encoded data removed]",
      "text/plain": [
       "<Figure size 1080x504 with 1 Axes>"
      ]
     },
     "metadata": {
      "needs_background": "light"
     },
     "output_type": "display_data"
    }
   ],
   "source": [
    "if __name__ == '__main__':\n",
    "    main()"
   ]
  }
 ],
 "metadata": {
  "kernelspec": {
   "display_name": "PyBoot",
   "language": "python",
   "name": "pyboot"
  },
  "language_info": {
   "codemirror_mode": {
    "name": "ipython",
    "version": 3
   },
   "file_extension": ".py",
   "mimetype": "text/x-python",
   "name": "python",
   "nbconvert_exporter": "python",
   "pygments_lexer": "ipython3",
   "version": "3.6.4"
  }
 },
 "nbformat": 4,
 "nbformat_minor": 2
}
